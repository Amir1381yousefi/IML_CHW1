{
 "cells": [
  {
   "cell_type": "markdown",
   "metadata": {
    "id": "c7wdMyNNzf49",
    "pycharm": {
     "name": "#%% md\n"
    }
   },
   "source": [
    "<h1 align=\"center\">An Introduction to Machine Learning - 25737</h1>\n",
    "<h4 align=\"center\">Dr. Sajjad Amini</h4>\n",
    "<h4 align=\"center\">Sharif University of Technology, Spring 2023</h4>\n",
    "\n",
    "# Problem Set 01\n",
    "\n",
    "Welcome to your first assignment. This exercise gives you a brief introduction to Python. \n",
    "\n",
    "\n"
   ]
  },
  {
   "cell_type": "markdown",
   "source": [
    "STUDENT NAME: AmirMohammad Yousefi\n",
    "\n",
    "STUDENT ID: 99102531"
   ],
   "metadata": {
    "id": "Q-qsTRYU5ay5",
    "pycharm": {
     "name": "#%% md\n"
    }
   }
  },
  {
   "cell_type": "markdown",
   "metadata": {
    "id": "lyOsKSguzf5A",
    "pycharm": {
     "name": "#%% md\n"
    }
   },
   "source": [
    "## About iPython Notebooks ##\n",
    "\n",
    "iPython Notebooks are interactive coding environments embedded in a webpage. You will be using iPython notebooks in this class. You only need to write code between the ### START CODE HERE ### and ### END CODE HERE ### comments. After writing your code, you can run the cell by either pressing \"SHIFT\"+\"ENTER\" or by clicking on \"Run Cell\" (denoted by a play symbol) in the upper bar of the notebook. \n",
    "\n",
    "**Exercise**: Set test to `\"Hello World\"` in the cell below to print \"Hello World\" and run the two cells below."
   ]
  },
  {
   "cell_type": "code",
   "execution_count": 1,
   "metadata": {
    "id": "cVMoOWUlzf5A",
    "pycharm": {
     "name": "#%%\n"
    }
   },
   "outputs": [
    {
     "name": "stdout",
     "output_type": "stream",
     "text": [
      "Hello World\n"
     ]
    }
   ],
   "source": [
    "### START CODE HERE ###\n",
    "import numpy as np\n",
    "\n",
    "test = \"Hello World\"\n",
    "print(test)\n",
    "### END CODE HERE ###"
   ]
  },
  {
   "cell_type": "markdown",
   "metadata": {
    "id": "mJZfkY87zf5B",
    "pycharm": {
     "name": "#%% md\n"
    }
   },
   "source": [
    "<font color='blue'>\n",
    "**What you need to remember**:\n",
    "- Run your cells using SHIFT+ENTER (or \"Run cell\")\n",
    "- Write code in the designated areas using Python 3 only\n",
    "- Do not modify the code outside of the designated areas"
   ]
  },
  {
   "cell_type": "markdown",
   "metadata": {
    "id": "ZdmzMwNpzf5B",
    "pycharm": {
     "name": "#%% md\n"
    }
   },
   "source": [
    "# 1.\n",
    ">What are the lengths of the following lists and strings below? Fill in the variable `lengths` with your predictions. (Try to make a prediction for each list *without* just calling `len()` on it.)"
   ]
  },
  {
   "cell_type": "markdown",
   "source": [
    "Answer: At the end of the code we run len() for all components to check our answers."
   ],
   "metadata": {
    "collapsed": false,
    "pycharm": {
     "name": "#%% md\n"
    }
   }
  },
  {
   "cell_type": "code",
   "execution_count": 1,
   "metadata": {
    "id": "Yh3d2hZ4zf5C",
    "pycharm": {
     "name": "#%%\n"
    }
   },
   "outputs": [
    {
     "name": "stdout",
     "output_type": "stream",
     "text": [
      "3 2 0 2 7 0 3 1\n"
     ]
    }
   ],
   "source": [
    "a = [1, 2, 3]\n",
    "b = [1, [2, 3]]\n",
    "c = []\n",
    "d = [1, 2, 3][1:]\n",
    "e = 'it\\'s ok'\n",
    "f = \"\"\n",
    "g = \"\"\"hey\"\"\"\n",
    "h = '\\n'\n",
    "\n",
    "# Put your predictions in the list below. Lengths should contain 8 numbers, the\n",
    "# first being the length of a, the second being the length of b and so on.\n",
    "### START CODE HERE ###\n",
    "lengths = [3, 2, 0, 2, 7, 0, 3, 1]\n",
    "print(len(a), len(b), len(c), len(d), len(e), len(f), len(g), len(h))\n",
    "### END CODE HERE ###"
   ]
  },
  {
   "cell_type": "markdown",
   "source": [
    "# 2.\n",
    ">Swap the values to which a and b refer."
   ],
   "metadata": {
    "collapsed": false,
    "pycharm": {
     "name": "#%% md\n"
    }
   }
  },
  {
   "cell_type": "code",
   "execution_count": 5,
   "outputs": [
    {
     "name": "stdout",
     "output_type": "stream",
     "text": [
      "a : \n",
      "[3, 2, 1]\n",
      "b : \n",
      "[1, 2, 3]\n"
     ]
    }
   ],
   "source": [
    "a = [1, 2, 3]\n",
    "b = [3, 2, 1]\n",
    "\n",
    "### START CODE HERE ###\n",
    "a, b = b, a\n",
    "print(\"a : \")\n",
    "print(a)\n",
    "print(\"b : \")\n",
    "print(b)\n",
    "### END CODE HERE ###"
   ],
   "metadata": {
    "collapsed": false,
    "pycharm": {
     "name": "#%%\n"
    }
   }
  },
  {
   "cell_type": "markdown",
   "source": [
    "# 3.\n",
    ">Which of the two variables below has the smallest absolute value? Use Python's built-in functions."
   ],
   "metadata": {
    "collapsed": false,
    "pycharm": {
     "name": "#%% md\n"
    }
   }
  },
  {
   "cell_type": "code",
   "execution_count": 13,
   "metadata": {
    "id": "tAy0qBDezf5C",
    "pycharm": {
     "name": "#%%\n"
    }
   },
   "outputs": [
    {
     "name": "stdout",
     "output_type": "stream",
     "text": [
      "5\n"
     ]
    }
   ],
   "source": [
    "x = -10\n",
    "y = 5\n",
    "\n",
    "### START CODE HERE ###\n",
    "smallest_abs = min(x, y, key=abs)\n",
    "print(smallest_abs)\n",
    "### END CODE HERE ###"
   ]
  },
  {
   "cell_type": "markdown",
   "metadata": {
    "id": "-55kY-Cqzf5C",
    "pycharm": {
     "name": "#%% md\n"
    }
   },
   "source": [
    "# 4. \n",
    "\n",
    "> A simple exercise! Run the cell below and try to explain the results for yourself:\n",
    "\n"
   ]
  },
  {
   "cell_type": "code",
   "execution_count": 6,
   "metadata": {
    "id": "_dpAa1Q4zf5D",
    "pycharm": {
     "name": "#%%\n"
    }
   },
   "outputs": [
    {
     "name": "stdout",
     "output_type": "stream",
     "text": [
      "1.0\n",
      "0.0\n",
      "1.0\n"
     ]
    }
   ],
   "source": [
    "print( 1.0 + 1.0 - 1.0 )\n",
    "print( 1.0 + 1.0e20 - 1.0e20 )\n",
    "print( 1.0e20 - 1.0e20 + 1 )"
   ]
  },
  {
   "cell_type": "markdown",
   "source": [
    "Answer: As we can see the python can't hold very large numbers exactly and when we add 1 to a large number the python accuracy for numbers can't handle this exactly so Python ignore this and still save the large number and when we subtract this number with itself the output will be zero."
   ],
   "metadata": {
    "collapsed": false,
    "pycharm": {
     "name": "#%% md\n"
    }
   }
  },
  {
   "cell_type": "markdown",
   "metadata": {
    "id": "3G2-lTfDzf5D",
    "pycharm": {
     "name": "#%% md\n"
    }
   },
   "source": [
    "# 5.\n",
    ">Many programming languages have [`sign`](https://en.wikipedia.org/wiki/Sign_function) available as a built-in function. Python doesn't, but we can define our own! \n",
    "In the cell below, define a function called `sign` which takes a numerical argument and returns -1 if it's negative, 1 if it's positive, and 0 if it's 0."
   ]
  },
  {
   "cell_type": "code",
   "execution_count": 18,
   "metadata": {
    "id": "ASICcFwYzf5D",
    "pycharm": {
     "name": "#%%\n"
    }
   },
   "outputs": [
    {
     "name": "stdout",
     "output_type": "stream",
     "text": [
      "1\n",
      "-1\n",
      "0\n"
     ]
    }
   ],
   "source": [
    "def sign(x):\n",
    "    # (\"pass\" is a keyword that does literally nothing. We used it as a placeholder\n",
    "    # because after we begin a code block, Python requires at least one line of code)\n",
    "    ### START CODE HERE ###\n",
    "    if x < 0:\n",
    "        return -1\n",
    "    elif x > 0:\n",
    "        return 1\n",
    "    return 0\n",
    "    ### END CODE HERE ###\n",
    "\n",
    "\n",
    "# You can try different examples to check your function:\n",
    "print(sign(2))\n",
    "print(sign(-2))\n",
    "print(sign(0))"
   ]
  },
  {
   "cell_type": "markdown",
   "metadata": {
    "id": "6on-t1f0zf5D",
    "pycharm": {
     "name": "#%% md\n"
    }
   },
   "source": [
    "# 6. \n",
    ">Complete the body of the following function according to its docstring.\n",
    "\n",
    "HINT: Python has a built-in function `round`."
   ]
  },
  {
   "cell_type": "code",
   "execution_count": 8,
   "outputs": [
    {
     "name": "stdout",
     "output_type": "stream",
     "text": [
      "10.0\n",
      "3.14\n"
     ]
    }
   ],
   "source": [
    "def round_to_two_places(num):\n",
    "    \"\"\"Return the given number rounded to two decimal places.\n",
    "\n",
    "    >>> round_to_two_places(3.14159)\n",
    "    3.14\n",
    "    \"\"\"\n",
    "    ### START CODE HERE ###\n",
    "    print(round(num, 2))\n",
    "    ### END CODE HERE ###\n",
    "    pass\n",
    "\n",
    "round_to_two_places(9.9999)\n",
    "round_to_two_places(3.14159)"
   ],
   "metadata": {
    "collapsed": false,
    "pycharm": {
     "name": "#%%\n"
    }
   }
  },
  {
   "cell_type": "markdown",
   "source": [
    "The help for `round` says that `ndigits` (the second argument) may be negative.\n",
    "What do you think will happen when it is? Try an example in the cell below.\n",
    "\n",
    "\n",
    "Answer: The round() function rounds the number to the closest multiple of 10<sup>-ndigits</sup> so here the number rounds 232.4243 to the closest multiple of 10<sup>2</sup>=100 and this is 200."
   ],
   "metadata": {
    "collapsed": false,
    "pycharm": {
     "name": "#%% md\n"
    }
   }
  },
  {
   "cell_type": "code",
   "execution_count": 25,
   "metadata": {
    "id": "G6_vfswBzf5D",
    "pycharm": {
     "name": "#%%\n"
    }
   },
   "outputs": [
    {
     "data": {
      "text/plain": "200.0"
     },
     "execution_count": 25,
     "metadata": {},
     "output_type": "execute_result"
    }
   ],
   "source": [
    "round(232.4243, -2)"
   ]
  },
  {
   "cell_type": "markdown",
   "metadata": {
    "id": "i3sKJk1jzf5D",
    "pycharm": {
     "name": "#%% md\n"
    }
   },
   "source": [
    "# 7.\n",
    "> Write a function that evaluates the polynomial $${3x^2 − x + 2}$$"
   ]
  },
  {
   "cell_type": "code",
   "execution_count": 19,
   "metadata": {
    "id": "cKy7RJVTzf5E",
    "pycharm": {
     "name": "#%%\n"
    }
   },
   "outputs": [
    {
     "name": "stdout",
     "output_type": "stream",
     "text": [
      "292\n"
     ]
    }
   ],
   "source": [
    "import numpy as np\n",
    "\n",
    "def polynomial(x):\n",
    "    ### START CODE HERE ###\n",
    "    p1 = np.poly1d([3, -1, 2])\n",
    "    return p1(x)\n",
    "    ### END CODE HERE ###\n",
    "print(polynomial(10))"
   ]
  },
  {
   "cell_type": "markdown",
   "metadata": {
    "id": "HI8Nje1Jzf5E",
    "pycharm": {
     "name": "#%% md\n"
    }
   },
   "source": [
    "# 8.\n",
    ">Complete the function below according to its docstring."
   ]
  },
  {
   "cell_type": "code",
   "execution_count": 23,
   "metadata": {
    "id": "4pDj20lbzf5E",
    "pycharm": {
     "name": "#%%\n"
    }
   },
   "outputs": [
    {
     "name": "stdout",
     "output_type": "stream",
     "text": [
      "chemistry\n",
      "None\n",
      "None\n"
     ]
    }
   ],
   "source": [
    "def select_second(L):\n",
    "    \"\"\"Return the second element of the given list. If the list has no second\n",
    "    element, return None.\n",
    "    \"\"\"\n",
    "    ### START CODE HERE ###\n",
    "    l = len(L)\n",
    "    if l < 2:\n",
    "        return None\n",
    "    return L[1]\n",
    "    ### END CODE HERE ###\n",
    "\n",
    "list1 = ['physics', 'chemistry', 1997, 2000]\n",
    "list2 = []\n",
    "list3 = [\"a\"]\n",
    "print(select_second(list1))\n",
    "print(select_second(list2))\n",
    "print(select_second(list3))"
   ]
  },
  {
   "cell_type": "markdown",
   "source": [
    "# 9.\n",
    ">We're using lists to record people who attended a class and what order they arrived in. For example, the following list represents a class with 7 students, in which 'Amirhossein' showed up first and 'Pedram' was the last to arrive:\n",
    "\n",
    "> class_attendees = ['Amirhossein', 'Hadi', 'Fatemeh', 'Mahtab', 'Ali', 'Nasim', 'Pedram']\n",
    "\n",
    "> A student is considered 'fashionably late' if they arrived after at least half of the class's students. However, they must not be the very last student (that's taking it too far). In the above example, Ali and Nasim are the only students who were fashionably late.\n",
    "Complete the function below which takes a list of class attendees as well as a person, and tells us whether that person is fashionably late.\n",
    "\n",
    "\n",
    "Answer: We write a function, if a person is fashionably late this function will return \"fashionably late person\" and vice versa.\n",
    "I check my function with the prepared list in the question."
   ],
   "metadata": {
    "collapsed": false,
    "pycharm": {
     "name": "#%% md\n"
    }
   }
  },
  {
   "cell_type": "code",
   "execution_count": 15,
   "metadata": {
    "id": "8xOjqaTvzf5E",
    "pycharm": {
     "name": "#%%\n"
    }
   },
   "outputs": [
    {
     "data": {
      "text/plain": "'fashionably late person'"
     },
     "execution_count": 15,
     "metadata": {},
     "output_type": "execute_result"
    }
   ],
   "source": [
    "import math\n",
    "\n",
    "def fashionably_late(arrivals, name):\n",
    "    \"\"\"Given an ordered list of arrivals to the class and a name, return whether the student with that\n",
    "    name was fashionably late.\n",
    "    \"\"\"\n",
    "    ### START CODE HERE ###\n",
    "    l = len(arrivals)\n",
    "    half_length = math.ceil(l/2)\n",
    "    if arrivals.index(name) >= half_length and arrivals.index(name) != l-1:\n",
    "        return \"fashionably late person\"\n",
    "    return \"not fashionably late person\"\n",
    "    ### END CODE HERE ###\n",
    "class_attendees = ['Amirhossein', 'Hadi', 'Fatemeh', 'Mahtab', 'Ali', 'Nasim', 'Pedram']\n",
    "fashionably_late(class_attendees,\"Ali\")\n"
   ]
  },
  {
   "cell_type": "markdown",
   "metadata": {
    "id": "xYVP-8eWzf5E",
    "pycharm": {
     "name": "#%% md\n"
    }
   },
   "source": [
    "# 10.\n",
    ">Complete the function below according to its docstring."
   ]
  },
  {
   "cell_type": "code",
   "execution_count": 17,
   "metadata": {
    "id": "HQ-mpu1zzf5E",
    "pycharm": {
     "name": "#%%\n"
    }
   },
   "outputs": [
    {
     "data": {
      "text/plain": "'Unlucky List'"
     },
     "execution_count": 17,
     "metadata": {},
     "output_type": "execute_result"
    }
   ],
   "source": [
    "def has_lucky_number(nums):\n",
    "    \"\"\"Return whether the given list of numbers is lucky. A lucky list contains\n",
    "    at least one number divisible by 7.\n",
    "    \"\"\"\n",
    "    ### START CODE HERE ###\n",
    "    for i in nums:\n",
    "        if i % 7 == 0:\n",
    "            return \"Lucky List\"\n",
    "    return \"Unlucky List\"\n",
    "    ### END CODE HERE ###\n",
    "l = [1, 2, 3, 4, 5, 6, 8]\n",
    "has_lucky_number(l)"
   ]
  },
  {
   "cell_type": "markdown",
   "metadata": {
    "id": "tp4MIqyozf5E",
    "pycharm": {
     "name": "#%% md\n"
    }
   },
   "source": [
    "# 11.\n",
    "\n",
    ">Complete the body of the function below according to its docstring.\n",
    "\n",
    "Answer: If we have two meals in a raw in the list we will return True and otherwise we will return False"
   ]
  },
  {
   "cell_type": "code",
   "execution_count": 22,
   "metadata": {
    "id": "28PSD7eKzf5F",
    "pycharm": {
     "name": "#%%\n"
    }
   },
   "outputs": [
    {
     "data": {
      "text/plain": "True"
     },
     "execution_count": 22,
     "metadata": {},
     "output_type": "execute_result"
    }
   ],
   "source": [
    "def menu_is_boring(meals):\n",
    "    \"\"\"Given a list of meals served over some period of time, return True if the\n",
    "    same meal has ever been served two days in a row, and False otherwise.\n",
    "    \"\"\"\n",
    "    ### START CODE HERE ###\n",
    "    for i in range(len(meals)-1):\n",
    "        if meals[i] == meals[i+1]:\n",
    "            return True\n",
    "    return False\n",
    "\n",
    "    ### END CODE HERE ###\n",
    "class_attendees = ['meal1', 'meal2', 'meal3', 'meal4', 'meal5', 'meal6', 'meal6']\n",
    "menu_is_boring(class_attendees)"
   ]
  },
  {
   "cell_type": "markdown",
   "metadata": {
    "id": "WxphNvtzzf5F",
    "pycharm": {
     "name": "#%% md\n"
    }
   },
   "source": [
    "# 12.\n",
    "\n",
    "> There is a saying that \"Data scientists spend 80% of their time cleaning data, and 20% of their time complaining about cleaning data.\" Let's see if you can write a function to help clean US zip code data. Given a string, it should return whether or not that string represents a valid zip code. For our purposes, a valid zip code is any string consisting of exactly 5 digits.\n",
    "\n",
    "HINT: `str` has a method that will be useful here. Use `help(str)` to review a list of string methods."
   ]
  },
  {
   "cell_type": "code",
   "execution_count": 28,
   "metadata": {
    "id": "BPjuuKfXzf5F",
    "pycharm": {
     "name": "#%%\n"
    }
   },
   "outputs": [
    {
     "data": {
      "text/plain": "'Valid zip code'"
     },
     "execution_count": 28,
     "metadata": {},
     "output_type": "execute_result"
    }
   ],
   "source": [
    "def is_valid_zip(zip_code):\n",
    "    \"\"\"Returns whether the input string is a valid (5 digit) zip code\n",
    "    \"\"\"\n",
    "    ### START CODE HERE ###\n",
    "    if zip_code.isdigit() == True and len(zip_code) == 5:\n",
    "        return \"Valid zip code\"\n",
    "    return \"Improbable zip code\"\n",
    "    ### END CODE HERE ###\n",
    "\n",
    "is_valid_zip(\"12345\")"
   ]
  },
  {
   "cell_type": "markdown",
   "metadata": {
    "id": "CAB_4WFczf5F",
    "pycharm": {
     "name": "#%% md\n"
    }
   },
   "source": [
    "# 13.\n",
    ">Write a function my_max(x,y) that returns the maximum of x and y. \n",
    "\n",
    ">Do not use the max function, but use if instead in following two ways:\n",
    "\n",
    ">> (a) Use both if and else.\n",
    "\n",
    ">> (b) Use if but not else (nor elif)."
   ]
  },
  {
   "cell_type": "code",
   "execution_count": 32,
   "metadata": {
    "id": "EdxovDduzf5F",
    "pycharm": {
     "name": "#%%\n"
    }
   },
   "outputs": [
    {
     "data": {
      "text/plain": "1"
     },
     "execution_count": 32,
     "metadata": {},
     "output_type": "execute_result"
    }
   ],
   "source": [
    "def my_max_a(x, y):\n",
    "    ### START CODE HERE ###\n",
    "    if x > y:\n",
    "        return x\n",
    "    else:\n",
    "        return y\n",
    "    ### END CODE HERE ###\n",
    "my_max_a(1, -1)"
   ]
  },
  {
   "cell_type": "code",
   "execution_count": 33,
   "metadata": {
    "id": "QbC8rsevzf5F",
    "pycharm": {
     "name": "#%%\n"
    }
   },
   "outputs": [
    {
     "data": {
      "text/plain": "1"
     },
     "execution_count": 33,
     "metadata": {},
     "output_type": "execute_result"
    }
   ],
   "source": [
    "def my_max_b(x, y):\n",
    "    ### START CODE HERE ###\n",
    "    if x > y:\n",
    "        return x\n",
    "    return y\n",
    "    ### END CODE HERE ###\n",
    "my_max_b(1, -1)"
   ]
  },
  {
   "cell_type": "markdown",
   "metadata": {
    "id": "SPGRkQKczf5F",
    "pycharm": {
     "name": "#%% md\n"
    }
   },
   "source": [
    "# 14.  \n",
    "\n",
    "> Let i,j = 1,...,n\n",
    "\n",
    ">>(a) Generate a list with elements [i,j].\n",
    "\n",
    ">>(b) Generate a list with elements [i,j] with i < j\n",
    "\n",
    ">>(c) Generate a list with elements i + j with both i and j prime and i > j\n",
    "\n",
    "Use List comprehensions"
   ]
  },
  {
   "cell_type": "code",
   "execution_count": 9,
   "metadata": {
    "id": "6kEF2l-azf5F",
    "pycharm": {
     "name": "#%%\n"
    }
   },
   "outputs": [
    {
     "name": "stdout",
     "output_type": "stream",
     "text": [
      "[[1, 1], [1, 2], [1, 3], [1, 4], [1, 5], [1, 6], [1, 7], [2, 1], [2, 2], [2, 3], [2, 4], [2, 5], [2, 6], [2, 7], [3, 1], [3, 2], [3, 3], [3, 4], [3, 5], [3, 6], [3, 7], [4, 1], [4, 2], [4, 3], [4, 4], [4, 5], [4, 6], [4, 7], [5, 1], [5, 2], [5, 3], [5, 4], [5, 5], [5, 6], [5, 7], [6, 1], [6, 2], [6, 3], [6, 4], [6, 5], [6, 6], [6, 7], [7, 1], [7, 2], [7, 3], [7, 4], [7, 5], [7, 6], [7, 7]]\n",
      "[[1, 2], [1, 3], [1, 4], [1, 5], [1, 6], [1, 7], [2, 3], [2, 4], [2, 5], [2, 6], [2, 7], [3, 4], [3, 5], [3, 6], [3, 7], [4, 5], [4, 6], [4, 7], [5, 6], [5, 7], [6, 7]]\n",
      "[5, 7, 8, 9, 10, 12]\n"
     ]
    }
   ],
   "source": [
    "import sympy\n",
    "# a)\n",
    "### START CODE HERE ###\n",
    "n = int(input(\"Enter n: \"))\n",
    "l1 = [[i, j] for i in range(1,n + 1) for j in range(1,n + 1)]\n",
    "print(l1)\n",
    "### END CODE HERE ###\n",
    "\n",
    "\n",
    "# b)\n",
    "### START CODE HERE ###\n",
    "l2 = [[i, j] for i in range(1,n + 1) for j in range(1,n + 1) if i < j]\n",
    "print(l2)\n",
    "### END CODE HERE ###\n",
    "\n",
    "\n",
    "# c)\n",
    "### START CODE HERE ###\n",
    "l3 = [i + j for i in range(1,n + 1) for j in range(1,n + 1) if sympy.isprime(i) and sympy.isprime(j) and i > j]\n",
    "print(l3)\n",
    "### END CODE HERE ###"
   ]
  },
  {
   "cell_type": "markdown",
   "metadata": {
    "id": "1Nt-b71ozf5F",
    "pycharm": {
     "name": "#%% md\n"
    }
   },
   "source": [
    "# 15. \n",
    "\n",
    ">Complete the body of the function below according to its docstring."
   ]
  },
  {
   "cell_type": "code",
   "execution_count": 37,
   "metadata": {
    "id": "h7dJzbXgzf5F",
    "pycharm": {
     "name": "#%%\n"
    }
   },
   "outputs": [
    {
     "data": {
      "text/plain": "[2002,\n 2009,\n 2016,\n 2023,\n 2037,\n 2044,\n 2051,\n 2058,\n 2072,\n 2079,\n 2086,\n 2093,\n 2107,\n 2114,\n 2121,\n 2128,\n 2142,\n 2149,\n 2156,\n 2163,\n 2177,\n 2184,\n 2191,\n 2198,\n 2212,\n 2219,\n 2226,\n 2233,\n 2247,\n 2254,\n 2261,\n 2268,\n 2282,\n 2289,\n 2296,\n 2303,\n 2317,\n 2324,\n 2331,\n 2338,\n 2352,\n 2359,\n 2366,\n 2373,\n 2387,\n 2394,\n 2401,\n 2408,\n 2422,\n 2429,\n 2436,\n 2443,\n 2457,\n 2464,\n 2471,\n 2478,\n 2492,\n 2499,\n 2506,\n 2513,\n 2527,\n 2534,\n 2541,\n 2548,\n 2562,\n 2569,\n 2576,\n 2583,\n 2597,\n 2604,\n 2611,\n 2618,\n 2632,\n 2639,\n 2646,\n 2653,\n 2667,\n 2674,\n 2681,\n 2688,\n 2702,\n 2709,\n 2716,\n 2723,\n 2737,\n 2744,\n 2751,\n 2758,\n 2772,\n 2779,\n 2786,\n 2793,\n 2807,\n 2814,\n 2821,\n 2828,\n 2842,\n 2849,\n 2856,\n 2863,\n 2877,\n 2884,\n 2891,\n 2898,\n 2912,\n 2919,\n 2926,\n 2933,\n 2947,\n 2954,\n 2961,\n 2968,\n 2982,\n 2989,\n 2996,\n 3003,\n 3017,\n 3024,\n 3031,\n 3038,\n 3052,\n 3059,\n 3066,\n 3073,\n 3087,\n 3094,\n 3101,\n 3108,\n 3122,\n 3129,\n 3136,\n 3143,\n 3157,\n 3164,\n 3171,\n 3178,\n 3192,\n 3199]"
     },
     "execution_count": 37,
     "metadata": {},
     "output_type": "execute_result"
    }
   ],
   "source": [
    "def my_func():\n",
    "    \"\"\"Write a function which will return a list contains all such numbers which are divisible by 7 but are not a multiple\n",
    "    of 5, between 2000 and 3200 (both included).\n",
    "    \"\"\"\n",
    "    ### START CODE HERE ###\n",
    "    l = []\n",
    "    for i in range(2000, 3201):\n",
    "        if i % 7 == 0 and i % 5 != 0:\n",
    "            l.append(i)\n",
    "    return l\n",
    "    ### END CODE HERE ###\n",
    "my_func()"
   ]
  },
  {
   "cell_type": "markdown",
   "metadata": {
    "id": "4hCkNduIzf5F",
    "pycharm": {
     "name": "#%% md\n"
    }
   },
   "source": [
    "# 16.\n",
    "\n",
    ">Write a program that accepts a sentence and calculate the number of letters and digits.\n",
    "Suppose the following input is supplied to the program:\n",
    "\n",
    "        hello world! 123\n",
    ">Then, the output should be:\n",
    "\n",
    ">>LETTERS 10\n",
    "\n",
    ">>DIGITS 3"
   ]
  },
  {
   "cell_type": "code",
   "execution_count": 38,
   "metadata": {
    "id": "zCF3Jcxrzf5G",
    "pycharm": {
     "name": "#%%\n"
    }
   },
   "outputs": [
    {
     "name": "stdout",
     "output_type": "stream",
     "text": [
      "LETTERS 10\n",
      "DIGITS 3\n"
     ]
    }
   ],
   "source": [
    "### START CODE HERE ###\n",
    "\n",
    "string = input(\"Enter a sentence: \")\n",
    "\n",
    "digits = 0\n",
    "letters = 0\n",
    "\n",
    "for i in string:\n",
    "    if i.isdigit():\n",
    "        digits += 1\n",
    "    elif i.isalpha():\n",
    "        letters += 1\n",
    "print(\"LETTERS \" + str(letters))\n",
    "print(\"DIGITS \" + str(digits))\n",
    "\n",
    "### END CODE HERE ###"
   ]
  },
  {
   "cell_type": "markdown",
   "metadata": {
    "id": "SrFe49A3zf5G",
    "pycharm": {
     "name": "#%% md\n"
    }
   },
   "source": [
    "# 17.\n",
    "Write a function to sort a list of tuples (name, age, height) by ascending order\n",
    "where name is string, age and height are numbers. The sort\n",
    "criteria is:\n",
    "\n",
    "* 1: Sort based on name;\n",
    "* 2: Then sort based on age;\n",
    "* 3: Then sort by score.\n",
    "\n",
    "The priority is that name > age > score.\n",
    "If the following list is given as input to the function:\n",
    ">[('Taha',19,80), ('Farhad',20,90), ('Farrokh',17,91), ('Farrokh',17,93), ('Fatemeh',21,85)]\n",
    "\n",
    "Then, the output of the program should be:\n",
    ">[('Farhad', '20', '90'), ('Farrokh', '17', '91'), ('Farrokh', '17', '93'), ('Fatemeh', '21', '85'), ('Taha', '19', '80')]\n",
    "\n",
    "Answer: Note that when we sort based on name we consider the uppercase and lowercase letters. the upper case letters have more priority than lowercase."
   ]
  },
  {
   "cell_type": "code",
   "execution_count": 43,
   "metadata": {
    "id": "ovUPqq9Tzf5G",
    "pycharm": {
     "name": "#%%\n"
    }
   },
   "outputs": [
    {
     "data": {
      "text/plain": "[('Ali', 5, 2),\n ('Ali', 5, 10),\n ('Farhad', 20, 90),\n ('Farrokh', 17, 91),\n ('Farrokh', 17, 93),\n ('Fatemeh', 21, 85),\n ('Taha', 19, 80)]"
     },
     "execution_count": 43,
     "metadata": {},
     "output_type": "execute_result"
    }
   ],
   "source": [
    "def sortTuple(inputList):\n",
    "    ### START CODE HERE ###\n",
    "    inputList.sort(key=score)\n",
    "    inputList.sort(key=age)\n",
    "    inputList.sort(key=name)\n",
    "    return inputList\n",
    "def score(s):\n",
    "    return s[2]\n",
    "def age(s):\n",
    "    return s[1]\n",
    "def name(s):\n",
    "    return s[0]\n",
    "my_list = [('Taha',19,80), ('Farhad',20,90), ('Farrokh',17,91), ('Farrokh',17,93), ('Fatemeh',21,85), ('Ali',5,2),('Ali',5,10)]\n",
    "sortTuple(my_list)\n",
    "    ### END CODE HERE ###\n"
   ]
  }
 ],
 "metadata": {
  "kernelspec": {
   "display_name": "Python 3",
   "language": "python",
   "name": "python3"
  },
  "language_info": {
   "codemirror_mode": {
    "name": "ipython",
    "version": 3
   },
   "file_extension": ".py",
   "mimetype": "text/x-python",
   "name": "python",
   "nbconvert_exporter": "python",
   "pygments_lexer": "ipython3",
   "version": "3.8.5"
  },
  "colab": {
   "provenance": []
  }
 },
 "nbformat": 4,
 "nbformat_minor": 0
}