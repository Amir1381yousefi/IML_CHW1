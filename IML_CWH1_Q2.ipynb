{
 "cells": [
  {
   "cell_type": "markdown",
   "source": [
    "<h1 align=\"center\">An Introduction to Machine Learning - 25737</h1>\n",
    "<h4 align=\"center\">Dr. Sajjad Amini</h4>\n",
    "<h4 align=\"center\">Sharif University of Technology, Spring 2023</h4>\n",
    "\n",
    "# Problem Set 02\n",
    "\n",
    "Welcome to your second assignment. This exercise gives you a brief introduction to Python. \n"
   ],
   "metadata": {
    "id": "9CFNN5Ms51un",
    "pycharm": {
     "name": "#%% md\n"
    }
   }
  },
  {
   "cell_type": "markdown",
   "source": [
    "STUDENT NAME: Amir Mohammad Yousefi\n",
    "\n",
    "STUDENT ID: 99102531"
   ],
   "metadata": {
    "id": "otVWavun6BLM",
    "pycharm": {
     "name": "#%% md\n"
    }
   }
  },
  {
   "cell_type": "markdown",
   "source": [
    "## Import \n",
    ">Put all of your imports for this file in the below cell."
   ],
   "metadata": {
    "id": "ZmfUgXgE51uo",
    "pycharm": {
     "name": "#%% md\n"
    }
   }
  },
  {
   "cell_type": "code",
   "execution_count": 1,
   "source": [
    "### START CODE HERE ###\n",
    "import numpy as np\n",
    "import pandas as pd\n",
    "import matplotlib.pyplot as plt\n",
    "### END CODE HERE ###"
   ],
   "outputs": [],
   "metadata": {
    "id": "PKyVIvPF51uo",
    "pycharm": {
     "name": "#%%\n"
    }
   }
  },
  {
   "cell_type": "markdown",
   "source": [
    "# Question 1"
   ],
   "metadata": {
    "id": "TK-ZIy9Z51up",
    "pycharm": {
     "name": "#%% md\n"
    }
   }
  },
  {
   "cell_type": "markdown",
   "source": [
    "## Array creation\n",
    ">Create the followings to numpy array:\n",
    "* A: a 3\\*3 array like this:\n",
    "$$\n",
    "A = \\left(\\begin{array}{cc} \n",
    "10 & 20 & 30\\\\\n",
    "5 & 10 & 15\\\\\n",
    "1 & 5 & 8\n",
    "\\end{array}\\right)\n",
    "$$ \n",
    "* B: a 3\\*3\\*4 that filled with the numbers start from 15 and have steps of 5 to the end. The array should be filled first along the first dimension then the second dimension and at last the third dimension. like this:\n",
    "$$\n",
    "B[:, :, 0] = \\left(\\begin{array}{cc} \n",
    "15 & 30 & 45\\\\\n",
    "20 & 35 & 50\\\\\n",
    "25 & 40 & 55\n",
    "\\end{array}\\right)\n",
    "$$ "
   ],
   "metadata": {
    "id": "xATpgtcD51up",
    "pycharm": {
     "name": "#%% md\n"
    }
   }
  },
  {
   "cell_type": "code",
   "execution_count": 2,
   "source": [
    "### START CODE HERE ###\n",
    "A = np.array([[10, 20, 30], [5, 10, 15], [1, 5, 8]])\n",
    "B = np.array([i for i in range(15, 60 ,5)])\n",
    "B = B.reshape(3, 3)\n",
    "B = B.transpose()\n",
    "for i in range(0,2):\n",
    "    B = np.concatenate((B, B), axis=0)\n",
    "B = B.reshape(4, 3, 3)\n",
    "print(\"A : \")\n",
    "print(A)\n",
    "print(\"B : \")\n",
    "print(B)\n",
    "### END CODE HERE ###"
   ],
   "outputs": [
    {
     "name": "stdout",
     "output_type": "stream",
     "text": [
      "A : \n",
      "[[10 20 30]\n",
      " [ 5 10 15]\n",
      " [ 1  5  8]]\n",
      "B : \n",
      "[[[15 30 45]\n",
      "  [20 35 50]\n",
      "  [25 40 55]]\n",
      "\n",
      " [[15 30 45]\n",
      "  [20 35 50]\n",
      "  [25 40 55]]\n",
      "\n",
      " [[15 30 45]\n",
      "  [20 35 50]\n",
      "  [25 40 55]]\n",
      "\n",
      " [[15 30 45]\n",
      "  [20 35 50]\n",
      "  [25 40 55]]]\n"
     ]
    }
   ],
   "metadata": {
    "id": "TjIs628Y51up",
    "pycharm": {
     "name": "#%%\n"
    }
   }
  },
  {
   "cell_type": "markdown",
   "source": [
    "## Replacement\n",
    ">Replace the last slice of array B (B[:, :, 3]) with values of A. Then print the result."
   ],
   "metadata": {
    "id": "FnkUQTNY51up",
    "pycharm": {
     "name": "#%% md\n"
    }
   }
  },
  {
   "cell_type": "code",
   "execution_count": 3,
   "source": [
    "### START CODE HERE ###\n",
    "print(\"A :\")\n",
    "print(A)\n",
    "print(\"old B :\")\n",
    "print(B)\n",
    "B[:][:][3] = A\n",
    "print(\"new B :\")\n",
    "print(B)\n",
    "### END CODE HERE ###"
   ],
   "outputs": [
    {
     "name": "stdout",
     "output_type": "stream",
     "text": [
      "A :\n",
      "[[10 20 30]\n",
      " [ 5 10 15]\n",
      " [ 1  5  8]]\n",
      "old B :\n",
      "[[[15 30 45]\n",
      "  [20 35 50]\n",
      "  [25 40 55]]\n",
      "\n",
      " [[15 30 45]\n",
      "  [20 35 50]\n",
      "  [25 40 55]]\n",
      "\n",
      " [[15 30 45]\n",
      "  [20 35 50]\n",
      "  [25 40 55]]\n",
      "\n",
      " [[15 30 45]\n",
      "  [20 35 50]\n",
      "  [25 40 55]]]\n",
      "new B :\n",
      "[[[15 30 45]\n",
      "  [20 35 50]\n",
      "  [25 40 55]]\n",
      "\n",
      " [[15 30 45]\n",
      "  [20 35 50]\n",
      "  [25 40 55]]\n",
      "\n",
      " [[15 30 45]\n",
      "  [20 35 50]\n",
      "  [25 40 55]]\n",
      "\n",
      " [[10 20 30]\n",
      "  [ 5 10 15]\n",
      "  [ 1  5  8]]]\n"
     ]
    }
   ],
   "metadata": {
    "id": "P8VC57_o51uq",
    "pycharm": {
     "name": "#%%\n"
    }
   }
  },
  {
   "cell_type": "markdown",
   "source": [
    "## Axis Swap \n",
    ">Swap the first(B[:, :, 0]) and last(B[:, :, 3]) slice of the array B **only with one line of code**. Then print the result."
   ],
   "metadata": {
    "id": "nZs4P5AZ51uq",
    "pycharm": {
     "name": "#%% md\n"
    }
   }
  },
  {
   "cell_type": "code",
   "execution_count": 4,
   "source": [
    "### START CODE HERE ###\n",
    "print(\"old B :\")\n",
    "print(B)\n",
    "B[:][:][[0,3]] = B[:][:][[3,0]]\n",
    "print(\"new B :\")\n",
    "print(B)\n",
    "### END CODE HERE ###"
   ],
   "outputs": [
    {
     "name": "stdout",
     "output_type": "stream",
     "text": [
      "old B :\n",
      "[[[15 30 45]\n",
      "  [20 35 50]\n",
      "  [25 40 55]]\n",
      "\n",
      " [[15 30 45]\n",
      "  [20 35 50]\n",
      "  [25 40 55]]\n",
      "\n",
      " [[15 30 45]\n",
      "  [20 35 50]\n",
      "  [25 40 55]]\n",
      "\n",
      " [[10 20 30]\n",
      "  [ 5 10 15]\n",
      "  [ 1  5  8]]]\n",
      "new B :\n",
      "[[[10 20 30]\n",
      "  [ 5 10 15]\n",
      "  [ 1  5  8]]\n",
      "\n",
      " [[15 30 45]\n",
      "  [20 35 50]\n",
      "  [25 40 55]]\n",
      "\n",
      " [[15 30 45]\n",
      "  [20 35 50]\n",
      "  [25 40 55]]\n",
      "\n",
      " [[15 30 45]\n",
      "  [20 35 50]\n",
      "  [25 40 55]]]\n"
     ]
    }
   ],
   "metadata": {
    "id": "WmS33bBl51uq",
    "pycharm": {
     "name": "#%%\n"
    }
   }
  },
  {
   "cell_type": "markdown",
   "source": [
    "## Transposing \n",
    ">Transpose the array B elements in each slice. Then print the result."
   ],
   "metadata": {
    "id": "220LTscL51uq",
    "pycharm": {
     "name": "#%% md\n"
    }
   }
  },
  {
   "cell_type": "code",
   "execution_count": 5,
   "source": [
    "### START CODE HERE ###\n",
    "print(\"old B :\")\n",
    "print(B)\n",
    "for i in range(0,4):\n",
    "    B[:][:][i] = B[:][:][i].transpose()\n",
    "print(\"new B :\")\n",
    "print(B)\n",
    "### END CODE HERE ###"
   ],
   "outputs": [
    {
     "name": "stdout",
     "output_type": "stream",
     "text": [
      "old B :\n",
      "[[[10 20 30]\n",
      "  [ 5 10 15]\n",
      "  [ 1  5  8]]\n",
      "\n",
      " [[15 30 45]\n",
      "  [20 35 50]\n",
      "  [25 40 55]]\n",
      "\n",
      " [[15 30 45]\n",
      "  [20 35 50]\n",
      "  [25 40 55]]\n",
      "\n",
      " [[15 30 45]\n",
      "  [20 35 50]\n",
      "  [25 40 55]]]\n",
      "new B :\n",
      "[[[10  5  1]\n",
      "  [20 10  5]\n",
      "  [30 15  8]]\n",
      "\n",
      " [[15 20 25]\n",
      "  [30 35 40]\n",
      "  [45 50 55]]\n",
      "\n",
      " [[15 20 25]\n",
      "  [30 35 40]\n",
      "  [45 50 55]]\n",
      "\n",
      " [[15 20 25]\n",
      "  [30 35 40]\n",
      "  [45 50 55]]]\n"
     ]
    }
   ],
   "metadata": {
    "id": "aNMAlnaC51uq",
    "pycharm": {
     "name": "#%%\n"
    }
   }
  },
  {
   "cell_type": "markdown",
   "source": [
    "## Matrix Multiplication\n",
    ">Calculate the matrix multiplication of all slices of the array B. \n",
    "(B[:, :, 0] \\* B[:, :, 1] \\* B[:, :, 2] \\* B[:, :, 3]). Then print the result.\n",
    "\n",
    ">**Note**: the result should be a 3\\*3 array. "
   ],
   "metadata": {
    "id": "xYFuQ6_H51uq",
    "pycharm": {
     "name": "#%% md\n"
    }
   }
  },
  {
   "cell_type": "code",
   "execution_count": 6,
   "source": [
    "### START CODE HERE ###\n",
    "print(\"B :\")\n",
    "print(B)\n",
    "multMatrix = B[:][:][0]\n",
    "for i in range(1,4):\n",
    "    multMatrix = np.matmul(multMatrix, B[:][:][i])\n",
    "print(\"calculation answer :\")\n",
    "print(multMatrix)\n",
    "### END CODE HERE ###"
   ],
   "outputs": [
    {
     "name": "stdout",
     "output_type": "stream",
     "text": [
      "B :\n",
      "[[[10  5  1]\n",
      "  [20 10  5]\n",
      "  [30 15  8]]\n",
      "\n",
      " [[15 20 25]\n",
      "  [30 35 40]\n",
      "  [45 50 55]]\n",
      "\n",
      " [[15 20 25]\n",
      "  [30 35 40]\n",
      "  [45 50 55]]\n",
      "\n",
      " [[15 20 25]\n",
      "  [30 35 40]\n",
      "  [45 50 55]]]\n",
      "calculation answer :\n",
      "[[ 4423500  5128875  5834250]\n",
      " [10372500 12026250 13680000]\n",
      " [15813000 18334125 20855250]]\n"
     ]
    }
   ],
   "metadata": {
    "id": "HfQRENtP51uq",
    "pycharm": {
     "name": "#%%\n"
    }
   }
  },
  {
   "cell_type": "markdown",
   "source": [
    "## Determinant\n",
    ">Calculate the determinant of the array A and print it."
   ],
   "metadata": {
    "id": "T-aKILXl51uq",
    "pycharm": {
     "name": "#%% md\n"
    }
   }
  },
  {
   "cell_type": "code",
   "execution_count": 7,
   "source": [
    "### START CODE HERE ###\n",
    "print(\"A :\")\n",
    "print(A)\n",
    "det = np.linalg.det(A)\n",
    "print(det)\n",
    "### END CODE HERE ###"
   ],
   "outputs": [
    {
     "name": "stdout",
     "output_type": "stream",
     "text": [
      "A :\n",
      "[[10 20 30]\n",
      " [ 5 10 15]\n",
      " [ 1  5  8]]\n",
      "0.0\n"
     ]
    }
   ],
   "metadata": {
    "id": "IuIyFxIb51ur",
    "pycharm": {
     "name": "#%%\n"
    }
   }
  },
  {
   "cell_type": "markdown",
   "source": [
    "# Question 2"
   ],
   "metadata": {
    "id": "dUxqZ--i51ur",
    "pycharm": {
     "name": "#%% md\n"
    }
   }
  },
  {
   "cell_type": "markdown",
   "source": [
    "## Loading dataset\n",
    ">Load the IMDB-Movie-Data.csv file into a pandas dataframe and show its first 5 rows. Each row of this dataframe corresponds to one film."
   ],
   "metadata": {
    "id": "tVorf1Zj51ur",
    "pycharm": {
     "name": "#%% md\n"
    }
   }
  },
  {
   "cell_type": "code",
   "execution_count": 8,
   "source": [
    "### START CODE HERE ###\n",
    "df = pd.read_csv('IMDB-Movie-Data.csv')\n",
    "df.iloc[0:5]\n",
    "### END CODE HERE ###"
   ],
   "outputs": [
    {
     "data": {
      "text/plain": "   Rank                    Title                     Genre  \\\n0     1  Guardians of the Galaxy   Action,Adventure,Sci-Fi   \n1     2               Prometheus  Adventure,Mystery,Sci-Fi   \n2     3                    Split           Horror,Thriller   \n3     4                     Sing   Animation,Comedy,Family   \n4     5            Suicide Squad  Action,Adventure,Fantasy   \n\n                                         Description              Director  \\\n0  A group of intergalactic criminals are forced ...            James Gunn   \n1  Following clues to the origin of mankind, a te...          Ridley Scott   \n2  Three girls are kidnapped by a man with a diag...    M. Night Shyamalan   \n3  In a city of humanoid animals, a hustling thea...  Christophe Lourdelet   \n4  A secret government agency recruits some of th...            David Ayer   \n\n                                              Actors  Year  Runtime (Minutes)  \\\n0  Chris Pratt, Vin Diesel, Bradley Cooper, Zoe S...  2014                121   \n1  Noomi Rapace, Logan Marshall-Green, Michael Fa...  2012                124   \n2  James McAvoy, Anya Taylor-Joy, Haley Lu Richar...  2016                117   \n3  Matthew McConaughey,Reese Witherspoon, Seth Ma...  2016                108   \n4  Will Smith, Jared Leto, Margot Robbie, Viola D...  2016                123   \n\n   Rating   Votes  Revenue (Millions)  Metascore  \n0     8.1  757074              333.13       76.0  \n1     7.0  485820              126.46       65.0  \n2     7.3  157606              138.12       62.0  \n3     7.2   60545              270.32       59.0  \n4     6.2  393727              325.02       40.0  ",
      "text/html": "<div>\n<style scoped>\n    .dataframe tbody tr th:only-of-type {\n        vertical-align: middle;\n    }\n\n    .dataframe tbody tr th {\n        vertical-align: top;\n    }\n\n    .dataframe thead th {\n        text-align: right;\n    }\n</style>\n<table border=\"1\" class=\"dataframe\">\n  <thead>\n    <tr style=\"text-align: right;\">\n      <th></th>\n      <th>Rank</th>\n      <th>Title</th>\n      <th>Genre</th>\n      <th>Description</th>\n      <th>Director</th>\n      <th>Actors</th>\n      <th>Year</th>\n      <th>Runtime (Minutes)</th>\n      <th>Rating</th>\n      <th>Votes</th>\n      <th>Revenue (Millions)</th>\n      <th>Metascore</th>\n    </tr>\n  </thead>\n  <tbody>\n    <tr>\n      <th>0</th>\n      <td>1</td>\n      <td>Guardians of the Galaxy</td>\n      <td>Action,Adventure,Sci-Fi</td>\n      <td>A group of intergalactic criminals are forced ...</td>\n      <td>James Gunn</td>\n      <td>Chris Pratt, Vin Diesel, Bradley Cooper, Zoe S...</td>\n      <td>2014</td>\n      <td>121</td>\n      <td>8.1</td>\n      <td>757074</td>\n      <td>333.13</td>\n      <td>76.0</td>\n    </tr>\n    <tr>\n      <th>1</th>\n      <td>2</td>\n      <td>Prometheus</td>\n      <td>Adventure,Mystery,Sci-Fi</td>\n      <td>Following clues to the origin of mankind, a te...</td>\n      <td>Ridley Scott</td>\n      <td>Noomi Rapace, Logan Marshall-Green, Michael Fa...</td>\n      <td>2012</td>\n      <td>124</td>\n      <td>7.0</td>\n      <td>485820</td>\n      <td>126.46</td>\n      <td>65.0</td>\n    </tr>\n    <tr>\n      <th>2</th>\n      <td>3</td>\n      <td>Split</td>\n      <td>Horror,Thriller</td>\n      <td>Three girls are kidnapped by a man with a diag...</td>\n      <td>M. Night Shyamalan</td>\n      <td>James McAvoy, Anya Taylor-Joy, Haley Lu Richar...</td>\n      <td>2016</td>\n      <td>117</td>\n      <td>7.3</td>\n      <td>157606</td>\n      <td>138.12</td>\n      <td>62.0</td>\n    </tr>\n    <tr>\n      <th>3</th>\n      <td>4</td>\n      <td>Sing</td>\n      <td>Animation,Comedy,Family</td>\n      <td>In a city of humanoid animals, a hustling thea...</td>\n      <td>Christophe Lourdelet</td>\n      <td>Matthew McConaughey,Reese Witherspoon, Seth Ma...</td>\n      <td>2016</td>\n      <td>108</td>\n      <td>7.2</td>\n      <td>60545</td>\n      <td>270.32</td>\n      <td>59.0</td>\n    </tr>\n    <tr>\n      <th>4</th>\n      <td>5</td>\n      <td>Suicide Squad</td>\n      <td>Action,Adventure,Fantasy</td>\n      <td>A secret government agency recruits some of th...</td>\n      <td>David Ayer</td>\n      <td>Will Smith, Jared Leto, Margot Robbie, Viola D...</td>\n      <td>2016</td>\n      <td>123</td>\n      <td>6.2</td>\n      <td>393727</td>\n      <td>325.02</td>\n      <td>40.0</td>\n    </tr>\n  </tbody>\n</table>\n</div>"
     },
     "execution_count": 8,
     "metadata": {},
     "output_type": "execute_result"
    }
   ],
   "metadata": {
    "id": "dIsa36yi51ur",
    "pycharm": {
     "name": "#%%\n"
    }
   }
  },
  {
   "cell_type": "markdown",
   "source": [
    "## Actors/Actresses Activity\n",
    ">For each Actors/Actresses caculate the number of movies in the dataframe, then sort the actors/actresses first by their number of movies in descending order and then by their name in ascending order. "
   ],
   "metadata": {
    "id": "pgDvllsV51ur",
    "pycharm": {
     "name": "#%% md\n"
    }
   }
  },
  {
   "cell_type": "code",
   "execution_count": 17,
   "source": [
    "### START CODE HERE ###\n",
    "actors = []\n",
    "for i in range(len(df['Actors'])):\n",
    "    l1 = list(df['Actors'].iloc[i].split(', '))\n",
    "    for k in range(len(l1)):\n",
    "        l2 = list(l1[k].split(','))\n",
    "        for j in range(len(l2)):\n",
    "            actors.append(l2[j])\n",
    "name_sorted = pd.Series(actors).value_counts().sort_index().sort_values(ascending = False)\n",
    "print(name_sorted)\n",
    "### END CODE HERE ###"
   ],
   "outputs": [
    {
     "name": "stdout",
     "output_type": "stream",
     "text": [
      "Mark Wahlberg         15\n",
      "Hugh Jackman          14\n",
      "Brad Pitt             13\n",
      "Christian Bale        13\n",
      "Scarlett Johansson    12\n",
      "                      ..\n",
      "Jackie Earle Haley     1\n",
      "Jackie Chan            1\n",
      "Jacki Weaver           1\n",
      "Jack Taylor            1\n",
      "Óscar Jaenada          1\n",
      "Length: 1985, dtype: int64\n"
     ]
    }
   ],
   "metadata": {
    "id": "GfB9w9UO51ur",
    "pycharm": {
     "name": "#%%\n"
    }
   }
  },
  {
   "cell_type": "markdown",
   "source": [
    "## Score Histogram\n",
    ">Draw the histogram of metascores and ratings. "
   ],
   "metadata": {
    "id": "U8qu6f7d51ur",
    "pycharm": {
     "name": "#%% md\n"
    }
   }
  },
  {
   "cell_type": "code",
   "execution_count": 20,
   "source": [
    "### START CODE HERE ###\n",
    "df.hist(column=\"Metascore\")\n",
    "df.hist(column=\"Rating\")\n",
    "### END CODE HERE ###"
   ],
   "outputs": [
    {
     "data": {
      "text/plain": "array([[<AxesSubplot: title={'center': 'Rating'}>]], dtype=object)"
     },
     "execution_count": 20,
     "metadata": {},
     "output_type": "execute_result"
    },
    {
     "data": {
      "text/plain": "<Figure size 640x480 with 1 Axes>",
      "image/png": "[encoded data removed]"
     },
     "metadata": {},
     "output_type": "display_data"
    },
    {
     "data": {
      "text/plain": "<Figure size 640x480 with 1 Axes>",
      "image/png": "[encoded data removed]"
     },
     "metadata": {},
     "output_type": "display_data"
    }
   ],
   "metadata": {
    "id": "JUf-Jl6T51ur",
    "pycharm": {
     "name": "#%%\n"
    }
   }
  },
  {
   "cell_type": "markdown",
   "source": [
    "## Correlations\n",
    ">Calculate the correlation between rating, votes and metascore of the movies.\n",
    "Is there any meaningful relation between these features?\n",
    "\n",
    "Answer: As we can see the correlation between Ratings and metascores is very high so the metascore and rating that so so they are depend on each other on the other hand the correlation between Votes and another is lower. so we can say that as we assume the Rating and metascore is a film score and the type of this is score but vote is how many people voted so obviously the correlation will decrease"
   ],
   "metadata": {
    "id": "_fD8olon51ur",
    "pycharm": {
     "name": "#%% md\n"
    }
   }
  },
  {
   "cell_type": "code",
   "execution_count": 22,
   "source": [
    "### START CODE HERE ###\n",
    "corr_rating_metascores = df[\"Rating\"].corr(df[\"Metascore\"])\n",
    "corr_rating_votes = df[\"Rating\"].corr(df[\"Votes\"])\n",
    "corr_votes_metascores = df[\"Metascore\"].corr(df[\"Votes\"])\n",
    "print(corr_rating_metascores)\n",
    "print(corr_rating_votes)\n",
    "print(corr_votes_metascores)\n",
    "### END CODE HERE ###"
   ],
   "outputs": [
    {
     "name": "stdout",
     "output_type": "stream",
     "text": [
      "0.6318965100387072\n",
      "0.5115373197657556\n",
      "0.32568380853365664\n"
     ]
    }
   ],
   "metadata": {
    "id": "4Llb2din51ur",
    "pycharm": {
     "name": "#%%\n"
    }
   }
  },
  {
   "cell_type": "markdown",
   "source": [
    "# Question 3"
   ],
   "metadata": {
    "id": "kLHzx8KW51ur",
    "pycharm": {
     "name": "#%% md\n"
    }
   }
  },
  {
   "cell_type": "markdown",
   "source": [
    "## File\n",
    "> Craet a .txt file and name it \"Name_actors\". You must write the name of all actors/actresses in the IMDB-Movie-Data.csv file. Don't write a name multiple time and write each name in a new line."
   ],
   "metadata": {
    "id": "xQMEJJVI51ur",
    "pycharm": {
     "name": "#%% md\n"
    }
   }
  },
  {
   "cell_type": "code",
   "execution_count": 26,
   "source": [
    "### START CODE HERE ###\n",
    "f = open('Name_actors.txt', 'w')\n",
    "f.write('\\n'.join(actors))\n",
    "f.close()\n",
    "### END CODE HERE ###"
   ],
   "outputs": [],
   "metadata": {
    "id": "li8flG_251us",
    "pycharm": {
     "name": "#%%\n"
    }
   }
  },
  {
   "cell_type": "markdown",
   "source": [
    "# Question 4"
   ],
   "metadata": {
    "id": "oXpoTAa-51us",
    "pycharm": {
     "name": "#%% md\n"
    }
   }
  },
  {
   "cell_type": "markdown",
   "source": [
    "## Plot\n",
    ">You must plot the number of movies in each year according to the IMDB-Movie-Data.csv file. X-axis is year and y-axis show the number of movies in each year.\n",
    "> set the x_label, y_label and title for your plot."
   ],
   "metadata": {
    "id": "-l8ephAz51us",
    "pycharm": {
     "name": "#%% md\n"
    }
   }
  },
  {
   "cell_type": "code",
   "execution_count": 28,
   "source": [
    "### START CODE HERE ###\n",
    "x = df['Year'].value_counts().sort_index().to_frame()\n",
    "x.plot(kind='bar',legend=None)\n",
    "plt.xlabel('year')\n",
    "plt.ylabel('movies')\n",
    "plt.title('number of movies years')\n",
    "plt.show()\n",
    "### END CODE HERE ###"
   ],
   "outputs": [
    {
     "data": {
      "text/plain": "<Figure size 640x480 with 1 Axes>",
      "image/png": "[encoded data removed]"
     },
     "metadata": {},
     "output_type": "display_data"
    }
   ],
   "metadata": {
    "id": "pVgfjlk_51us",
    "pycharm": {
     "name": "#%%\n"
    }
   }
  },
  {
   "cell_type": "markdown",
   "source": [
    "## Plot\n",
    ">You must plot the cos(x) curve. plot 20 cycle of the curve. the frequency of first half of curve is 50 Hz and frequency of second lalf is 200 Hz. \n",
    "> set the x_label, y_label and title for your plot."
   ],
   "metadata": {
    "id": "-xaIS92c51us",
    "pycharm": {
     "name": "#%% md\n"
    }
   }
  },
  {
   "cell_type": "code",
   "execution_count": 37,
   "source": [
    "### START CODE HERE ###\n",
    "x1 = np.arange(0, 0.2, 0.0001)\n",
    "y1 = np.cos(2*np.pi*50*x1)\n",
    "x2 = np.arange(0.2, 0.25, 0.0001)\n",
    "y2 = np.cos(2*np.pi*200*x2)\n",
    "x = np.append(x1, x2)\n",
    "y = np.append(y1, y2)\n",
    "plt.plot(x,y)\n",
    "plt.xlabel('x')\n",
    "plt.ylabel('cos')\n",
    "plt.title('Cos plot with 50 and 200 Hz')\n",
    "plt.show()\n",
    "### END CODE HERE ###"
   ],
   "outputs": [
    {
     "data": {
      "text/plain": "<Figure size 640x480 with 1 Axes>",
      "image/png": "[encoded data removed]"
     },
     "metadata": {},
     "output_type": "display_data"
    }
   ],
   "metadata": {
    "id": "5VhGTsTw51us",
    "pycharm": {
     "name": "#%%\n"
    }
   }
  }
 ],
 "metadata": {
  "orig_nbformat": 4,
  "language_info": {
   "name": "python",
   "version": "3.8.5",
   "mimetype": "text/x-python",
   "codemirror_mode": {
    "name": "ipython",
    "version": 3
   },
   "pygments_lexer": "ipython3",
   "nbconvert_exporter": "python",
   "file_extension": ".py"
  },
  "kernelspec": {
   "name": "python3",
   "display_name": "Python 3.8.5 64-bit"
  },
  "interpreter": {
   "hash": "d8283cc4fef7fdfd79fce9ff4c59fb46bb636ce565bf5e011ed8cd98646ea4d5"
  },
  "colab": {
   "provenance": []
  }
 },
 "nbformat": 4,
 "nbformat_minor": 0
}